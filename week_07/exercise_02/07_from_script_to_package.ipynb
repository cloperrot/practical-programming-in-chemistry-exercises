{
 "cells": [
  {
   "cell_type": "markdown",
   "metadata": {},
   "source": [
    "### Python Exercise: Converting a Script to a Package\n",
    "\n",
    "In this exercise, you'll learn how to convert a Python script into a Python package. Packaging your code is an essential skill in software development as it promotes code reusability, maintainability, and distribution.\n",
    "\n",
    "The goal of the exercise is to take the existing `amremover_script.py` file, which contains functions for removing atom mapping numbers from SMILES (Simplified Molecular Input Line Entry System) strings and canonicalizing them, and restructure it into a Python package called `amremover_package`.\n",
    "\n",
    "There are situations where you would like to have your SMILES without atom-mapping. Although, you could remove them by hand for a few reactions, it is convenient to automate atom-mapping removal with a Python tool. \n",
    "\n",
    "The `amremover_script.py` file contains the following code (to view the full code open the actual file):\n",
    "\n",
    "```python\n",
    "# amremover_script.py\n",
    "import re\n",
    "from rdkit import Chem\n",
    "\n",
    "def remove_atom_mapping(smiles: str) -> str:\n",
    "    ...\n",
    "\n",
    "def canonicalize_smiles(smiles: str) -> str:\n",
    "    ...\n",
    "\n",
    "def remove_atom_mapping_and_canonicalize_rxn_smiles(smiles: str) -> str:\n",
    "    ...\n",
    "\n",
    "rxn_smiles_with_atom_mapping = '[CH3:17][S:14](=[O:15])(=[O:16])[N:11]1[CH2:10][CH2:9][N:8](Cc2ccccc2)[CH2:13][CH2:12]1.C1CCCCC1>[OH-].[OH-].[Pd+2].CCO>[CH3:17][S:14](=[O:15])(=[O:16])[N:11]1[CH2:10][CH2:9][NH:8][CH2:13][CH2:12]1'\n",
    "\n",
    "print(f\"RXN SMILES with atom mapping: {rxn_smiles_with_atom_mapping}\")\n",
    "print(\"*** Remove atom mapping ***\")\n",
    "rxn_smiles_without_atom_mapping = remove_atom_mapping_and_canonicalize_rxn_smiles(rxn_smiles_with_atom_mapping)\n",
    "print(f\"RXN SMILES without atom mapping: {rxn_smiles_without_atom_mapping}\")\n",
    "```\n",
    "\n",
    "We can run this script even from a Jupyter notebook, using the `!` character to execute code in the shell. \n"
   ]
  },
  {
   "cell_type": "code",
   "execution_count": 6,
   "metadata": {},
   "outputs": [
    {
     "name": "stdout",
     "output_type": "stream",
     "text": [
      "Requirement already satisfied: rdkit in /Users/clotildeperrot/anaconda3/envs/w7_reactions/lib/python3.10/site-packages (2023.9.5)\n",
      "Requirement already satisfied: numpy in /Users/clotildeperrot/anaconda3/envs/w7_reactions/lib/python3.10/site-packages (from rdkit) (1.26.4)\n",
      "Requirement already satisfied: Pillow in /Users/clotildeperrot/anaconda3/envs/w7_reactions/lib/python3.10/site-packages (from rdkit) (10.3.0)\n"
     ]
    }
   ],
   "source": [
    "!pip install rdkit"
   ]
  },
  {
   "cell_type": "code",
   "execution_count": 3,
   "metadata": {},
   "outputs": [
    {
     "name": "stdout",
     "output_type": "stream",
     "text": [
      "RXN SMILES with atom mapping: [CH3:17][S:14](=[O:15])(=[O:16])[N:11]1[CH2:10][CH2:9][N:8](Cc2ccccc2)[CH2:13][CH2:12]1.C1CCCCC1>[OH-].[OH-].[Pd+2].CCO>[CH3:17][S:14](=[O:15])(=[O:16])[N:11]1[CH2:10][CH2:9][NH:8][CH2:13][CH2:12]1\n",
      "*** Remove atom mapping ***\n",
      "RXN SMILES without atom mapping: C1CCCCC1.CS(=O)(=O)N1CCN(Cc2ccccc2)CC1>CCO.[OH-].[OH-].[Pd+2]>CS(=O)(=O)N1CCNCC1\n"
     ]
    }
   ],
   "source": [
    "!python amremover_script.py"
   ]
  },
  {
   "cell_type": "markdown",
   "metadata": {},
   "source": [
    "Or import the function and execute it here:"
   ]
  },
  {
   "cell_type": "code",
   "execution_count": 7,
   "metadata": {},
   "outputs": [
    {
     "name": "stdout",
     "output_type": "stream",
     "text": [
      "RXN SMILES with atom mapping: [CH3:17][S:14](=[O:15])(=[O:16])[N:11]1[CH2:10][CH2:9][N:8](Cc2ccccc2)[CH2:13][CH2:12]1.C1CCCCC1>[OH-].[OH-].[Pd+2].CCO>[CH3:17][S:14](=[O:15])(=[O:16])[N:11]1[CH2:10][CH2:9][NH:8][CH2:13][CH2:12]1\n",
      "*** Remove atom mapping ***\n",
      "RXN SMILES without atom mapping: C1CCCCC1.CS(=O)(=O)N1CCN(Cc2ccccc2)CC1>CCO.[OH-].[OH-].[Pd+2]>CS(=O)(=O)N1CCNCC1\n"
     ]
    }
   ],
   "source": [
    "from amremover_script import remove_atom_mapping_and_canonicalize_rxn_smiles\n",
    "\n",
    "rxn_smiles_with_atom_mapping = '[CH3:17][S:14](=[O:15])(=[O:16])[N:11]1[CH2:10][CH2:9][N:8](Cc2ccccc2)[CH2:13][CH2:12]1.C1CCCCC1>[OH-].[OH-].[Pd+2].CCO>[CH3:17][S:14](=[O:15])(=[O:16])[N:11]1[CH2:10][CH2:9][NH:8][CH2:13][CH2:12]1'\n",
    "\n",
    "print(f\"RXN SMILES with atom mapping: {rxn_smiles_with_atom_mapping}\")\n",
    "print(\"*** Remove atom mapping ***\")\n",
    "rxn_smiles_without_atom_mapping = remove_atom_mapping_and_canonicalize_rxn_smiles(rxn_smiles_with_atom_mapping)\n",
    "print(f\"RXN SMILES without atom mapping: {rxn_smiles_without_atom_mapping}\")"
   ]
  },
  {
   "cell_type": "markdown",
   "metadata": {},
   "source": [
    "\n",
    "\n",
    "While this script works as intended, it lacks the structure and organization that a Python package provides. By converting it into a package, you'll learn how to organize your code into modules, set up package metadata, and create a distributable version of your software.\n",
    "\n",
    "To get started, you'll be provided with a minimal template for the `amremover_package` folder. Your task is to:\n",
    "\n",
    "1. Analyze the existing code in `amremover_script.py`.\n",
    "2. Determine the appropriate file structure and module organization for the package.\n",
    "3. Move the code from `amremover_script.py` into the corresponding files within the package.\n",
    "4. Make sure to specify `rdkit` as a dependency. \n",
    "5. Ensure that the package is properly configured and can be installed using `pip install -e .`.\n",
    "\n",
    "Throughout the exercise, you'll learn about essential package components like `pyproject.toml`, `__init__.py`, `if __name__ == '__main__:'`, and module organization. By the end, you'll have a better understanding of how to structure and distribute your Python code as a reusable package.\n",
    "\n",
    "You can always come back here and check whether you have managed to create the package successfully:"
   ]
  },
  {
   "cell_type": "code",
   "execution_count": 8,
   "metadata": {},
   "outputs": [
    {
     "name": "stdout",
     "output_type": "stream",
     "text": [
      "Processing ./amremover_package\n",
      "  Installing build dependencies ... \u001b[?25ldone\n",
      "\u001b[?25h  Getting requirements to build wheel ... \u001b[?25ldone\n",
      "\u001b[?25h  Preparing metadata (pyproject.toml) ... \u001b[?25lerror\n",
      "  \u001b[1;31merror\u001b[0m: \u001b[1msubprocess-exited-with-error\u001b[0m\n",
      "  \n",
      "  \u001b[31m×\u001b[0m \u001b[32mPreparing metadata \u001b[0m\u001b[1;32m(\u001b[0m\u001b[32mpyproject.toml\u001b[0m\u001b[1;32m)\u001b[0m did not run successfully.\n",
      "  \u001b[31m│\u001b[0m exit code: \u001b[1;36m1\u001b[0m\n",
      "  \u001b[31m╰─>\u001b[0m \u001b[31m[20 lines of output]\u001b[0m\n",
      "  \u001b[31m   \u001b[0m Traceback (most recent call last):\n",
      "  \u001b[31m   \u001b[0m   File \"/Users/clotildeperrot/anaconda3/envs/w7_reactions/lib/python3.10/site-packages/pip/_vendor/pyproject_hooks/_in_process/_in_process.py\", line 353, in <module>\n",
      "  \u001b[31m   \u001b[0m     main()\n",
      "  \u001b[31m   \u001b[0m   File \"/Users/clotildeperrot/anaconda3/envs/w7_reactions/lib/python3.10/site-packages/pip/_vendor/pyproject_hooks/_in_process/_in_process.py\", line 335, in main\n",
      "  \u001b[31m   \u001b[0m     json_out['return_val'] = hook(**hook_input['kwargs'])\n",
      "  \u001b[31m   \u001b[0m   File \"/Users/clotildeperrot/anaconda3/envs/w7_reactions/lib/python3.10/site-packages/pip/_vendor/pyproject_hooks/_in_process/_in_process.py\", line 152, in prepare_metadata_for_build_wheel\n",
      "  \u001b[31m   \u001b[0m     whl_basename = backend.build_wheel(metadata_directory, config_settings)\n",
      "  \u001b[31m   \u001b[0m   File \"/private/var/folders/mb/hkktfwx11x74sm6fbln1tlph0000gn/T/pip-build-env-54hc3qtx/overlay/lib/python3.10/site-packages/hatchling/build.py\", line 58, in build_wheel\n",
      "  \u001b[31m   \u001b[0m     return os.path.basename(next(builder.build(directory=wheel_directory, versions=['standard'])))\n",
      "  \u001b[31m   \u001b[0m   File \"/private/var/folders/mb/hkktfwx11x74sm6fbln1tlph0000gn/T/pip-build-env-54hc3qtx/overlay/lib/python3.10/site-packages/hatchling/builders/plugin/interface.py\", line 90, in build\n",
      "  \u001b[31m   \u001b[0m     self.metadata.validate_fields()\n",
      "  \u001b[31m   \u001b[0m   File \"/private/var/folders/mb/hkktfwx11x74sm6fbln1tlph0000gn/T/pip-build-env-54hc3qtx/overlay/lib/python3.10/site-packages/hatchling/metadata/core.py\", line 260, in validate_fields\n",
      "  \u001b[31m   \u001b[0m     _ = self.version\n",
      "  \u001b[31m   \u001b[0m   File \"/private/var/folders/mb/hkktfwx11x74sm6fbln1tlph0000gn/T/pip-build-env-54hc3qtx/overlay/lib/python3.10/site-packages/hatchling/metadata/core.py\", line 144, in version\n",
      "  \u001b[31m   \u001b[0m     self._version = self._get_version()\n",
      "  \u001b[31m   \u001b[0m   File \"/private/var/folders/mb/hkktfwx11x74sm6fbln1tlph0000gn/T/pip-build-env-54hc3qtx/overlay/lib/python3.10/site-packages/hatchling/metadata/core.py\", line 241, in _get_version\n",
      "  \u001b[31m   \u001b[0m     version = core_metadata.version\n",
      "  \u001b[31m   \u001b[0m   File \"/private/var/folders/mb/hkktfwx11x74sm6fbln1tlph0000gn/T/pip-build-env-54hc3qtx/overlay/lib/python3.10/site-packages/hatchling/metadata/core.py\", line 445, in version\n",
      "  \u001b[31m   \u001b[0m     raise ValueError(message)\n",
      "  \u001b[31m   \u001b[0m ValueError: Field `project.version` can only be resolved dynamically if `version` is in field `project.dynamic`\n",
      "  \u001b[31m   \u001b[0m \u001b[31m[end of output]\u001b[0m\n",
      "  \n",
      "  \u001b[1;35mnote\u001b[0m: This error originates from a subprocess, and is likely not a problem with pip.\n",
      "\u001b[1;31merror\u001b[0m: \u001b[1mmetadata-generation-failed\u001b[0m\n",
      "\n",
      "\u001b[31m×\u001b[0m Encountered error while generating package metadata.\n",
      "\u001b[31m╰─>\u001b[0m See above for output.\n",
      "\n",
      "\u001b[1;35mnote\u001b[0m: This is an issue with the package mentioned above, not pip.\n",
      "\u001b[1;36mhint\u001b[0m: See above for details.\n",
      "\u001b[?25h"
     ]
    },
    {
     "ename": "ModuleNotFoundError",
     "evalue": "No module named 'amremover_package.amremover_module'",
     "output_type": "error",
     "traceback": [
      "\u001b[0;31m---------------------------------------------------------------------------\u001b[0m",
      "\u001b[0;31mModuleNotFoundError\u001b[0m                       Traceback (most recent call last)",
      "Cell \u001b[0;32mIn[8], line 3\u001b[0m\n\u001b[1;32m      1\u001b[0m get_ipython()\u001b[38;5;241m.\u001b[39msystem(\u001b[38;5;124m'\u001b[39m\u001b[38;5;124mpip install ./amremover_package\u001b[39m\u001b[38;5;124m'\u001b[39m)\n\u001b[0;32m----> 3\u001b[0m \u001b[38;5;28;01mfrom\u001b[39;00m \u001b[38;5;21;01mamremover_package\u001b[39;00m\u001b[38;5;21;01m.\u001b[39;00m\u001b[38;5;21;01mamremover_module\u001b[39;00m \u001b[38;5;28;01mimport\u001b[39;00m remove_atom_mapping_and_canonicalize_rxn_smiles\n\u001b[1;32m      5\u001b[0m rxn_smiles_with_atom_mapping \u001b[38;5;241m=\u001b[39m \u001b[38;5;124m'\u001b[39m\u001b[38;5;124mCCN(C(C)C)C(C)C.[O:16]=[C:15]([O:17][CH2:18][c:19]1[cH:20][cH:21][cH:22][cH:23][cH:24]1)[N:9]1[CH2:10][CH2:11][NH:12][CH2:13][CH2:14]1.[O:8]=[c:4]1[cH:3][c:2](Cl)[n:7][cH:6][nH:5]1>CCC(C)O>[O:16]=[C:15]([O:17][CH2:18][c:19]1[cH:20][cH:21][cH:22][cH:23][cH:24]1)[N:9]1[CH2:10][CH2:11][N:12]([c:2]2[cH:3][c:4](=[O:8])[nH:5][cH:6][n:7]2)[CH2:13][CH2:14]1\u001b[39m\u001b[38;5;124m'\u001b[39m\n\u001b[1;32m      7\u001b[0m rxn_smiles_without_atom_mapping \u001b[38;5;241m=\u001b[39m remove_atom_mapping_and_canonicalize_rxn_smiles(rxn_smiles_with_atom_mapping)\n",
      "\u001b[0;31mModuleNotFoundError\u001b[0m: No module named 'amremover_package.amremover_module'"
     ]
    }
   ],
   "source": [
    "\n",
    "!pip install ./amremover_package\n",
    "\n",
    "from amremover_package.amremover_module import remove_atom_mapping_and_canonicalize_rxn_smiles\n",
    "\n",
    "rxn_smiles_with_atom_mapping = 'CCN(C(C)C)C(C)C.[O:16]=[C:15]([O:17][CH2:18][c:19]1[cH:20][cH:21][cH:22][cH:23][cH:24]1)[N:9]1[CH2:10][CH2:11][NH:12][CH2:13][CH2:14]1.[O:8]=[c:4]1[cH:3][c:2](Cl)[n:7][cH:6][nH:5]1>CCC(C)O>[O:16]=[C:15]([O:17][CH2:18][c:19]1[cH:20][cH:21][cH:22][cH:23][cH:24]1)[N:9]1[CH2:10][CH2:11][N:12]([c:2]2[cH:3][c:4](=[O:8])[nH:5][cH:6][n:7]2)[CH2:13][CH2:14]1'\n",
    "\n",
    "rxn_smiles_without_atom_mapping = remove_atom_mapping_and_canonicalize_rxn_smiles(rxn_smiles_with_atom_mapping)\n",
    "\n",
    "print(rxn_smiles_without_atom_mapping)\n",
    "\n",
    "assert rxn_smiles_without_atom_mapping == 'CCN(C(C)C)C(C)C.O=C(OCc1ccccc1)N1CCNCC1.O=c1cc(Cl)nc[nH]1>CCC(C)O>O=C(OCc1ccccc1)N1CCN(c2cc(=O)[nH]cn2)CC1'"
   ]
  },
  {
   "cell_type": "markdown",
   "metadata": {},
   "source": [
    "# What could be a next step (optional, advanced)\n",
    "\n",
    "Explore [Typer](https://typer.tiangolo.com) to add a command line interface to the amremover_package. \n",
    "\n",
    "The goal of this part would be to be able to run:"
   ]
  },
  {
   "cell_type": "markdown",
   "metadata": {},
   "source": [
    "!amremover \"CCN(C(C)C)C(C)C.[O:16]=[C:15]([O:17][CH2:18][c:19]1[cH:20][cH:21][cH:22][cH:23][cH:24]1)[N:9]1[CH2:10][CH2:11][NH:12][CH2:13][CH2:14]1.[O:8]=[c:4]1[cH:3][c:2](Cl)[n:7][cH:6][nH:5]1>CCC(C)O>[O:16]=[C:15]([O:17][CH2:18][c:19]1[cH:20][cH:21][cH:22][cH:23][cH:24]1)[N:9]1[CH2:10][CH2:11][N:12]([c:2]2[cH:3][c:4](=[O:8])[nH:5][cH:6][n:7]2)[CH2:13][CH2:14]1\" "
   ]
  },
  {
   "cell_type": "markdown",
   "metadata": {},
   "source": [
    "and it should print the canonicalized reaction SMILES without atom mapping: \n",
    "```\n",
    "CCN(C(C)C)C(C)C.O=C(OCc1ccccc1)N1CCNCC1.O=c1cc(Cl)nc[nH]1>CCC(C)O>O=C(OCc1ccccc1)N1CCN(c2cc(=O)[nH]cn2)CC1\n",
    "```"
   ]
  },
  {
   "cell_type": "markdown",
   "metadata": {},
   "source": []
  }
 ],
 "metadata": {
  "kernelspec": {
   "display_name": "Python 3 (ipykernel)",
   "language": "python",
   "name": "python3"
  },
  "language_info": {
   "codemirror_mode": {
    "name": "ipython",
    "version": 3
   },
   "file_extension": ".py",
   "mimetype": "text/x-python",
   "name": "python",
   "nbconvert_exporter": "python",
   "pygments_lexer": "ipython3",
   "version": "3.10.14"
  }
 },
 "nbformat": 4,
 "nbformat_minor": 4
}
